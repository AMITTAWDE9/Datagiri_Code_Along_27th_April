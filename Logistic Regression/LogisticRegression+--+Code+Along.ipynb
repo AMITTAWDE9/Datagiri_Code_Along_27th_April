{
 "cells": [
  {
   "cell_type": "markdown",
   "metadata": {},
   "source": [
    "# Prep tips\n",
    "## Content\n",
    "* Assume mixed audience, may or may not be familiar with Python and/or ML\n",
    "* Interesting dataset\n",
    "* Use real life example\n",
    "* Comment, make the notebook self-explanatory\n",
    "* Good presentation\n",
    "\n",
    "## Delivery\n",
    "* Set context and agenda for the session\n",
    "* Talk about the take-aways from this session\n",
    "* [30 mins]Spend a lot of time to on-board the concepts, building the intuition and explaining the math\n",
    "* [1 Hr] Spend a lot of time actually coding the problem\n",
    "    - Explain the problem statement\n",
    "    - Talk about the approach\n",
    "    - Code walk-through till the solution along with the participants\n",
    "* Closing remarks\n",
    "* Q & A"
   ]
  },
  {
   "cell_type": "code",
   "execution_count": null,
   "metadata": {
    "collapsed": true
   },
   "outputs": [],
   "source": []
  },
  {
   "cell_type": "code",
   "execution_count": null,
   "metadata": {
    "collapsed": true
   },
   "outputs": [],
   "source": []
  },
  {
   "cell_type": "markdown",
   "metadata": {},
   "source": [
    "# Actual Notebook"
   ]
  },
  {
   "cell_type": "code",
   "execution_count": null,
   "metadata": {
    "collapsed": true
   },
   "outputs": [],
   "source": []
  },
  {
   "cell_type": "markdown",
   "metadata": {},
   "source": [
    "## How many here are familiar with following things\n",
    "\n",
    "1. Python\n",
    "\n",
    "2. Differentiation of a function\n",
    "\n",
    "3. NumPy\n",
    "\n",
    "4. scikit-learn / sklearn\n",
    "\n",
    "5. Linear Regression\n",
    "\n",
    "6. Logistic Regression\n",
    "\n",
    "7. Probability Distribution\n"
   ]
  },
  {
   "cell_type": "markdown",
   "metadata": {},
   "source": [
    "### What is machine learning? What is AI?\n",
    "* Differences and similarities\n"
   ]
  },
  {
   "cell_type": "markdown",
   "metadata": {},
   "source": [
    "## What are we going to learn today?\n",
    "* What is Logistic Regressin\n",
    "* How to implement it with sklearn"
   ]
  },
  {
   "cell_type": "markdown",
   "metadata": {},
   "source": [
    "## What can you take away from today's code-along event?\n",
    "* What is classification in ML\n",
    "* What is Linear Regreesion and Logistic Regression. Difference between them?\n",
    "* What is the cost function of Logistic Regression?\n",
    "* How to minimize the cost function using GD\n",
    "* Evaluation metrics\n",
    "* Implementation with sklearn, NumPy"
   ]
  },
  {
   "cell_type": "code",
   "execution_count": null,
   "metadata": {
    "collapsed": true
   },
   "outputs": [],
   "source": []
  },
  {
   "cell_type": "code",
   "execution_count": null,
   "metadata": {
    "collapsed": true
   },
   "outputs": [],
   "source": []
  },
  {
   "cell_type": "markdown",
   "metadata": {},
   "source": [
    "\n",
    "### Basic python\n",
    "#### 1. List"
   ]
  },
  {
   "cell_type": "code",
   "execution_count": 1,
   "metadata": {
    "collapsed": true
   },
   "outputs": [],
   "source": [
    "my_list = [1,2,3,4,5,6]"
   ]
  },
  {
   "cell_type": "code",
   "execution_count": 8,
   "metadata": {
    "collapsed": false
   },
   "outputs": [
    {
     "data": {
      "text/plain": [
       "[1, 2, 3, 4, 5, 6]"
      ]
     },
     "execution_count": 8,
     "metadata": {},
     "output_type": "execute_result"
    }
   ],
   "source": [
    "my_list"
   ]
  },
  {
   "cell_type": "code",
   "execution_count": 9,
   "metadata": {
    "collapsed": true
   },
   "outputs": [],
   "source": [
    "my_list_of_list = [[1,2,3,4,5], [6,7,8,9,10]]"
   ]
  },
  {
   "cell_type": "code",
   "execution_count": 144,
   "metadata": {
    "collapsed": false
   },
   "outputs": [
    {
     "data": {
      "text/plain": [
       "[[1, 2, 3, 4, 5], [6, 7, 8, 9, 10]]"
      ]
     },
     "execution_count": 144,
     "metadata": {},
     "output_type": "execute_result"
    }
   ],
   "source": [
    "my_list_of_list"
   ]
  },
  {
   "cell_type": "markdown",
   "metadata": {},
   "source": [
    "#### 2. Array"
   ]
  },
  {
   "cell_type": "code",
   "execution_count": 39,
   "metadata": {
    "collapsed": true
   },
   "outputs": [],
   "source": [
    "import numpy as np"
   ]
  },
  {
   "cell_type": "code",
   "execution_count": 140,
   "metadata": {
    "collapsed": true
   },
   "outputs": [],
   "source": [
    "my_array = np.array(my_list)"
   ]
  },
  {
   "cell_type": "code",
   "execution_count": 142,
   "metadata": {
    "collapsed": false
   },
   "outputs": [
    {
     "data": {
      "text/plain": [
       "array([1, 2, 3, 4, 5, 6])"
      ]
     },
     "execution_count": 142,
     "metadata": {},
     "output_type": "execute_result"
    }
   ],
   "source": [
    "my_array"
   ]
  },
  {
   "cell_type": "code",
   "execution_count": 141,
   "metadata": {
    "collapsed": false
   },
   "outputs": [],
   "source": [
    "my_array_2d = np.array(my_list_of_list)"
   ]
  },
  {
   "cell_type": "code",
   "execution_count": 143,
   "metadata": {
    "collapsed": false
   },
   "outputs": [
    {
     "data": {
      "text/plain": [
       "array([[ 1,  2,  3,  4,  5],\n",
       "       [ 6,  7,  8,  9, 10]])"
      ]
     },
     "execution_count": 143,
     "metadata": {},
     "output_type": "execute_result"
    }
   ],
   "source": [
    "my_array_2d"
   ]
  },
  {
   "cell_type": "code",
   "execution_count": null,
   "metadata": {
    "collapsed": true
   },
   "outputs": [],
   "source": []
  },
  {
   "cell_type": "markdown",
   "metadata": {},
   "source": [
    "### Why do we need this extra library to \"just\" store/load a list in different way?\n",
    "Ans: Computational efficiency!"
   ]
  },
  {
   "cell_type": "code",
   "execution_count": 147,
   "metadata": {
    "collapsed": false
   },
   "outputs": [
    {
     "data": {
      "text/plain": [
       "array([[ 1,  2,  3,  4,  5],\n",
       "       [ 6,  7,  8,  9, 10]])"
      ]
     },
     "execution_count": 147,
     "metadata": {},
     "output_type": "execute_result"
    }
   ],
   "source": [
    "my_array_2d"
   ]
  },
  {
   "cell_type": "code",
   "execution_count": 145,
   "metadata": {
    "collapsed": false
   },
   "outputs": [
    {
     "data": {
      "text/plain": [
       "array([[ 4,  5,  6,  7,  8],\n",
       "       [ 9, 10, 11, 12, 13]])"
      ]
     },
     "execution_count": 145,
     "metadata": {},
     "output_type": "execute_result"
    }
   ],
   "source": [
    "my_array_2d+3"
   ]
  },
  {
   "cell_type": "code",
   "execution_count": 148,
   "metadata": {
    "collapsed": false
   },
   "outputs": [
    {
     "data": {
      "text/plain": [
       "[[1, 2, 3, 4, 5], [6, 7, 8, 9, 10]]"
      ]
     },
     "execution_count": 148,
     "metadata": {},
     "output_type": "execute_result"
    }
   ],
   "source": [
    "my_list_of_list"
   ]
  },
  {
   "cell_type": "code",
   "execution_count": 146,
   "metadata": {
    "collapsed": false
   },
   "outputs": [
    {
     "ename": "TypeError",
     "evalue": "can only concatenate list (not \"int\") to list",
     "output_type": "error",
     "traceback": [
      "\u001b[0;31m---------------------------------------------------------------------------\u001b[0m",
      "\u001b[0;31mTypeError\u001b[0m                                 Traceback (most recent call last)",
      "\u001b[0;32m<ipython-input-146-93dbadc79542>\u001b[0m in \u001b[0;36m<module>\u001b[0;34m()\u001b[0m\n\u001b[0;32m----> 1\u001b[0;31m \u001b[0mmy_list_of_list\u001b[0m\u001b[0;34m+\u001b[0m\u001b[0;36m7\u001b[0m\u001b[0;34m\u001b[0m\u001b[0m\n\u001b[0m",
      "\u001b[0;31mTypeError\u001b[0m: can only concatenate list (not \"int\") to list"
     ]
    }
   ],
   "source": [
    "my_list_of_list+7"
   ]
  },
  {
   "cell_type": "code",
   "execution_count": null,
   "metadata": {
    "collapsed": true
   },
   "outputs": [],
   "source": []
  },
  {
   "cell_type": "markdown",
   "metadata": {},
   "source": [
    "### What's a feature in ML?\n",
    "\"Feature\" of an (object, sample, event, observation, ...) is a mathematical representation of that object.\n",
    "\n",
    "Eg: \n",
    "\n",
    "Consider following vehicles:\n",
    "\n",
    "Take a car:\n",
    "    - has 4 wheels\n",
    "    - has 5+1 gears\n",
    "    - has seatbelts\n",
    "    - has one spare tire\n",
    "\n",
    "Take a train:\n",
    "    - has 100+ wheels\n",
    "    - does not have gears?\n",
    "    - no seatbetls\n",
    "    - no spare tires! Haha!! "
   ]
  },
  {
   "cell_type": "markdown",
   "metadata": {},
   "source": [
    "### How to represent different kinds of vehicles using a unfied scheme/same schema?\n",
    "\n",
    "We could say something like:\n",
    "\n",
    "```\n",
    "car = {\n",
    "    number_of_wheels : 4, # int\n",
    "    number_of_gears : 6, # int\n",
    "    has_seatbelt : Yes, # bool\n",
    "    number_of_spare_type : 1\n",
    "}\n",
    "\n",
    "train = {\n",
    "    number_of_wheels : 100\n",
    "    number_of_gears : 0\n",
    "    has_seatbelt : No,\n",
    "    number_of_spare_type : 0\n",
    "}\n",
    "\n",
    "```"
   ]
  },
  {
   "cell_type": "markdown",
   "metadata": {},
   "source": [
    "### But still this \"schema\" is still not mathematical!! "
   ]
  },
  {
   "cell_type": "markdown",
   "metadata": {},
   "source": [
    "#### Answer : \n",
    "What is a good mathematical representation here?? -- we have already seen it above!!\n",
    "\n",
    "```vehicle_representation := [number_of_wheels, number_of_gears, has_seatbelt, number_of_spare_type]\n",
    "car := [4, 6, 1, 1]\n",
    "train := [100, 0, 0, 0]\n",
    "```\n",
    "\n",
    "One-to-one correspondance between `vehicle_representation` and `car` / `train` list elements!"
   ]
  },
  {
   "cell_type": "markdown",
   "metadata": {},
   "source": [
    "### Live-Exercise: create features for fruits category\n",
    "\n",
    "```\n",
    "apple : {\n",
    "}\n",
    "\n",
    "orange : {\n",
    "}\n",
    "\n",
    "fruit_representation := [...]\n",
    "apple := [...]\n",
    "orange := [...]\n",
    "```\n"
   ]
  },
  {
   "cell_type": "code",
   "execution_count": null,
   "metadata": {
    "collapsed": true
   },
   "outputs": [],
   "source": []
  },
  {
   "cell_type": "markdown",
   "metadata": {},
   "source": [
    "### Derivative of functions\n",
    "Derivative := rate of change of value of a function"
   ]
  },
  {
   "cell_type": "markdown",
   "metadata": {},
   "source": [
    "    * Example\n",
    "\n",
    "$f(x) = x^2$\n",
    "$=> \\frac{df}{dx} = 2x$\n",
    "\n",
    "    * Real\n",
    "\n",
    "$f(x)=\\frac{1}{1+e^{-x}}$ $=> \\frac{df}{dx} = f(x)*(1-f(x))$"
   ]
  },
  {
   "cell_type": "code",
   "execution_count": null,
   "metadata": {
    "collapsed": true
   },
   "outputs": [],
   "source": []
  },
  {
   "cell_type": "markdown",
   "metadata": {},
   "source": [
    "### Numpy"
   ]
  },
  {
   "cell_type": "code",
   "execution_count": null,
   "metadata": {
    "collapsed": true
   },
   "outputs": [],
   "source": []
  },
  {
   "cell_type": "code",
   "execution_count": 5,
   "metadata": {
    "collapsed": false
   },
   "outputs": [
    {
     "data": {
      "text/plain": [
       "[1, 2, 3, 4, 5]"
      ]
     },
     "execution_count": 5,
     "metadata": {},
     "output_type": "execute_result"
    }
   ],
   "source": [
    "# making an array from list\n",
    "my_list = [1,2,3,4,5]\n",
    "my_array = np.array(my_list)\n",
    "my_list"
   ]
  },
  {
   "cell_type": "code",
   "execution_count": 8,
   "metadata": {
    "collapsed": false
   },
   "outputs": [
    {
     "data": {
      "text/plain": [
       "array([1, 2, 3, 4, 5, 6])"
      ]
     },
     "execution_count": 8,
     "metadata": {},
     "output_type": "execute_result"
    }
   ],
   "source": [
    "# directly \n",
    "my_array = np.array([1,2,3,4,5,6])\n",
    "my_array"
   ]
  },
  {
   "cell_type": "code",
   "execution_count": 9,
   "metadata": {
    "collapsed": false
   },
   "outputs": [
    {
     "data": {
      "text/plain": [
       "array([[1, 2, 3],\n",
       "       [4, 5, 6]])"
      ]
     },
     "execution_count": 9,
     "metadata": {},
     "output_type": "execute_result"
    }
   ],
   "source": [
    "my_array = np.array([[1,2,3], [4,5,6]])\n",
    "my_array"
   ]
  },
  {
   "cell_type": "code",
   "execution_count": 10,
   "metadata": {
    "collapsed": false
   },
   "outputs": [
    {
     "data": {
      "text/plain": [
       "dtype('int64')"
      ]
     },
     "execution_count": 10,
     "metadata": {},
     "output_type": "execute_result"
    }
   ],
   "source": [
    "my_array.dtype"
   ]
  },
  {
   "cell_type": "code",
   "execution_count": 13,
   "metadata": {
    "collapsed": true
   },
   "outputs": [],
   "source": [
    "my_array = np.array([[1,2,3],[1,2]])"
   ]
  },
  {
   "cell_type": "code",
   "execution_count": 14,
   "metadata": {
    "collapsed": false
   },
   "outputs": [
    {
     "data": {
      "text/plain": [
       "array([list([1, 2, 3]), list([1, 2])], dtype=object)"
      ]
     },
     "execution_count": 14,
     "metadata": {},
     "output_type": "execute_result"
    }
   ],
   "source": [
    "my_array"
   ]
  },
  {
   "cell_type": "code",
   "execution_count": 15,
   "metadata": {
    "collapsed": false
   },
   "outputs": [
    {
     "data": {
      "text/plain": [
       "dtype('O')"
      ]
     },
     "execution_count": 15,
     "metadata": {},
     "output_type": "execute_result"
    }
   ],
   "source": [
    "my_array.dtype"
   ]
  },
  {
   "cell_type": "code",
   "execution_count": null,
   "metadata": {
    "collapsed": true
   },
   "outputs": [],
   "source": []
  },
  {
   "cell_type": "code",
   "execution_count": 19,
   "metadata": {
    "collapsed": false
   },
   "outputs": [],
   "source": [
    "array = np.random.randint(0, 100, (10, 10))"
   ]
  },
  {
   "cell_type": "code",
   "execution_count": 20,
   "metadata": {
    "collapsed": false
   },
   "outputs": [
    {
     "data": {
      "text/plain": [
       "array([[36, 53, 71, 41, 24, 38,  1, 54,  3, 12],\n",
       "       [76,  2, 61, 12, 56,  4, 38,  5, 82, 27],\n",
       "       [72, 85, 23, 49, 89, 92, 63, 29, 72, 71],\n",
       "       [30, 16,  9, 62, 33, 53, 33, 54, 20, 33],\n",
       "       [37, 83,  2, 20, 38,  7, 81, 23, 57, 33],\n",
       "       [95, 93, 89, 35, 18, 87, 53, 11, 14, 54],\n",
       "       [97, 68, 12, 15, 40, 97, 67, 84, 82, 88],\n",
       "       [91, 53, 98, 57, 28, 58, 53, 95,  5, 71],\n",
       "       [88, 97, 29, 75, 28, 79, 64, 39,  4, 64],\n",
       "       [83, 13, 50, 17, 77, 57, 85, 42, 46, 64]])"
      ]
     },
     "execution_count": 20,
     "metadata": {},
     "output_type": "execute_result"
    }
   ],
   "source": [
    "array"
   ]
  },
  {
   "cell_type": "code",
   "execution_count": null,
   "metadata": {
    "collapsed": true
   },
   "outputs": [],
   "source": []
  },
  {
   "cell_type": "code",
   "execution_count": 21,
   "metadata": {
    "collapsed": false
   },
   "outputs": [
    {
     "data": {
      "text/plain": [
       "array([[12.        , 17.66666667, 23.66666667, 13.66666667,  8.        ,\n",
       "        12.66666667,  0.33333333, 18.        ,  1.        ,  4.        ],\n",
       "       [25.33333333,  0.66666667, 20.33333333,  4.        , 18.66666667,\n",
       "         1.33333333, 12.66666667,  1.66666667, 27.33333333,  9.        ],\n",
       "       [24.        , 28.33333333,  7.66666667, 16.33333333, 29.66666667,\n",
       "        30.66666667, 21.        ,  9.66666667, 24.        , 23.66666667],\n",
       "       [10.        ,  5.33333333,  3.        , 20.66666667, 11.        ,\n",
       "        17.66666667, 11.        , 18.        ,  6.66666667, 11.        ],\n",
       "       [12.33333333, 27.66666667,  0.66666667,  6.66666667, 12.66666667,\n",
       "         2.33333333, 27.        ,  7.66666667, 19.        , 11.        ],\n",
       "       [31.66666667, 31.        , 29.66666667, 11.66666667,  6.        ,\n",
       "        29.        , 17.66666667,  3.66666667,  4.66666667, 18.        ],\n",
       "       [32.33333333, 22.66666667,  4.        ,  5.        , 13.33333333,\n",
       "        32.33333333, 22.33333333, 28.        , 27.33333333, 29.33333333],\n",
       "       [30.33333333, 17.66666667, 32.66666667, 19.        ,  9.33333333,\n",
       "        19.33333333, 17.66666667, 31.66666667,  1.66666667, 23.66666667],\n",
       "       [29.33333333, 32.33333333,  9.66666667, 25.        ,  9.33333333,\n",
       "        26.33333333, 21.33333333, 13.        ,  1.33333333, 21.33333333],\n",
       "       [27.66666667,  4.33333333, 16.66666667,  5.66666667, 25.66666667,\n",
       "        19.        , 28.33333333, 14.        , 15.33333333, 21.33333333]])"
      ]
     },
     "execution_count": 21,
     "metadata": {},
     "output_type": "execute_result"
    }
   ],
   "source": [
    "array/3"
   ]
  },
  {
   "cell_type": "code",
   "execution_count": 22,
   "metadata": {
    "collapsed": false
   },
   "outputs": [
    {
     "data": {
      "text/plain": [
       "array([[ 39,  56,  74,  44,  27,  41,   4,  57,   6,  15],\n",
       "       [ 79,   5,  64,  15,  59,   7,  41,   8,  85,  30],\n",
       "       [ 75,  88,  26,  52,  92,  95,  66,  32,  75,  74],\n",
       "       [ 33,  19,  12,  65,  36,  56,  36,  57,  23,  36],\n",
       "       [ 40,  86,   5,  23,  41,  10,  84,  26,  60,  36],\n",
       "       [ 98,  96,  92,  38,  21,  90,  56,  14,  17,  57],\n",
       "       [100,  71,  15,  18,  43, 100,  70,  87,  85,  91],\n",
       "       [ 94,  56, 101,  60,  31,  61,  56,  98,   8,  74],\n",
       "       [ 91, 100,  32,  78,  31,  82,  67,  42,   7,  67],\n",
       "       [ 86,  16,  53,  20,  80,  60,  88,  45,  49,  67]])"
      ]
     },
     "execution_count": 22,
     "metadata": {},
     "output_type": "execute_result"
    }
   ],
   "source": [
    "array+3"
   ]
  },
  {
   "cell_type": "code",
   "execution_count": 23,
   "metadata": {
    "collapsed": false
   },
   "outputs": [
    {
     "data": {
      "text/plain": [
       "array([[108, 159, 213, 123,  72, 114,   3, 162,   9,  36],\n",
       "       [228,   6, 183,  36, 168,  12, 114,  15, 246,  81],\n",
       "       [216, 255,  69, 147, 267, 276, 189,  87, 216, 213],\n",
       "       [ 90,  48,  27, 186,  99, 159,  99, 162,  60,  99],\n",
       "       [111, 249,   6,  60, 114,  21, 243,  69, 171,  99],\n",
       "       [285, 279, 267, 105,  54, 261, 159,  33,  42, 162],\n",
       "       [291, 204,  36,  45, 120, 291, 201, 252, 246, 264],\n",
       "       [273, 159, 294, 171,  84, 174, 159, 285,  15, 213],\n",
       "       [264, 291,  87, 225,  84, 237, 192, 117,  12, 192],\n",
       "       [249,  39, 150,  51, 231, 171, 255, 126, 138, 192]])"
      ]
     },
     "execution_count": 23,
     "metadata": {},
     "output_type": "execute_result"
    }
   ],
   "source": [
    "array*3"
   ]
  },
  {
   "cell_type": "code",
   "execution_count": 24,
   "metadata": {
    "collapsed": false
   },
   "outputs": [
    {
     "data": {
      "text/plain": [
       "array([[33, 50, 68, 38, 21, 35, -2, 51,  0,  9],\n",
       "       [73, -1, 58,  9, 53,  1, 35,  2, 79, 24],\n",
       "       [69, 82, 20, 46, 86, 89, 60, 26, 69, 68],\n",
       "       [27, 13,  6, 59, 30, 50, 30, 51, 17, 30],\n",
       "       [34, 80, -1, 17, 35,  4, 78, 20, 54, 30],\n",
       "       [92, 90, 86, 32, 15, 84, 50,  8, 11, 51],\n",
       "       [94, 65,  9, 12, 37, 94, 64, 81, 79, 85],\n",
       "       [88, 50, 95, 54, 25, 55, 50, 92,  2, 68],\n",
       "       [85, 94, 26, 72, 25, 76, 61, 36,  1, 61],\n",
       "       [80, 10, 47, 14, 74, 54, 82, 39, 43, 61]])"
      ]
     },
     "execution_count": 24,
     "metadata": {},
     "output_type": "execute_result"
    }
   ],
   "source": [
    "array-3"
   ]
  },
  {
   "cell_type": "code",
   "execution_count": 27,
   "metadata": {
    "collapsed": false
   },
   "outputs": [
    {
     "data": {
      "text/plain": [
       "array([[12, 17, 23, 13,  8, 12,  0, 18,  1,  4],\n",
       "       [25,  0, 20,  4, 18,  1, 12,  1, 27,  9],\n",
       "       [24, 28,  7, 16, 29, 30, 21,  9, 24, 23],\n",
       "       [10,  5,  3, 20, 11, 17, 11, 18,  6, 11],\n",
       "       [12, 27,  0,  6, 12,  2, 27,  7, 19, 11],\n",
       "       [31, 31, 29, 11,  6, 29, 17,  3,  4, 18],\n",
       "       [32, 22,  4,  5, 13, 32, 22, 28, 27, 29],\n",
       "       [30, 17, 32, 19,  9, 19, 17, 31,  1, 23],\n",
       "       [29, 32,  9, 25,  9, 26, 21, 13,  1, 21],\n",
       "       [27,  4, 16,  5, 25, 19, 28, 14, 15, 21]])"
      ]
     },
     "execution_count": 27,
     "metadata": {},
     "output_type": "execute_result"
    }
   ],
   "source": [
    "array//3"
   ]
  },
  {
   "cell_type": "code",
   "execution_count": 28,
   "metadata": {
    "collapsed": false
   },
   "outputs": [
    {
     "data": {
      "text/plain": [
       "array([[0, 2, 2, 2, 0, 2, 1, 0, 0, 0],\n",
       "       [1, 2, 1, 0, 2, 1, 2, 2, 1, 0],\n",
       "       [0, 1, 2, 1, 2, 2, 0, 2, 0, 2],\n",
       "       [0, 1, 0, 2, 0, 2, 0, 0, 2, 0],\n",
       "       [1, 2, 2, 2, 2, 1, 0, 2, 0, 0],\n",
       "       [2, 0, 2, 2, 0, 0, 2, 2, 2, 0],\n",
       "       [1, 2, 0, 0, 1, 1, 1, 0, 1, 1],\n",
       "       [1, 2, 2, 0, 1, 1, 2, 2, 2, 2],\n",
       "       [1, 1, 2, 0, 1, 1, 1, 0, 1, 1],\n",
       "       [2, 1, 2, 2, 2, 0, 1, 0, 1, 1]])"
      ]
     },
     "execution_count": 28,
     "metadata": {},
     "output_type": "execute_result"
    }
   ],
   "source": [
    "array%3"
   ]
  },
  {
   "cell_type": "code",
   "execution_count": null,
   "metadata": {
    "collapsed": true
   },
   "outputs": [],
   "source": []
  },
  {
   "cell_type": "code",
   "execution_count": null,
   "metadata": {
    "collapsed": true
   },
   "outputs": [],
   "source": []
  },
  {
   "cell_type": "markdown",
   "metadata": {},
   "source": [
    "### ML vs AI\n",
    "\n",
    "From a \"purity\" perspective, any system which changes it's behaviour (in a good way?) by interacting with world (iteratively?).\n",
    "\n",
    "Simply : Let's say my systems has some parameters. If I am able to change the values of those parameters by looking at the data, let's we can say that the system has \"learned\" from the data.\n",
    "\n",
    "All other systems, you can put in \"AI\" category!"
   ]
  },
  {
   "cell_type": "markdown",
   "metadata": {},
   "source": [
    "## Maths"
   ]
  },
  {
   "cell_type": "markdown",
   "metadata": {},
   "source": [
    "### What's a model/hypothesis?"
   ]
  },
  {
   "cell_type": "markdown",
   "metadata": {},
   "source": [
    "Model : parametric representation of a system. \n",
    "\n",
    "Those parameters could be **learnable** or not.\n",
    "\n",
    "Mathematically, a model is simply a **function**"
   ]
  },
  {
   "cell_type": "markdown",
   "metadata": {},
   "source": [
    "$f(x) = mx + c$"
   ]
  },
  {
   "cell_type": "markdown",
   "metadata": {},
   "source": [
    "$f(x_1, x_2, x_3) = m_1*x_1+m_2*x2 + m_3*x_3 + c$"
   ]
  },
  {
   "cell_type": "markdown",
   "metadata": {},
   "source": [
    "In vector form, this can be written as \n",
    "\n",
    "$f(X) = M \\cdot X$\n",
    "\n",
    "where\n",
    "\n",
    "$M = [m_1, m_2, m_3, c]$ and $X = [x_1, x_2, x_3, 1]$ \n",
    "\n",
    "Replace $c$ by $m_0$ and change the order of features\n",
    "\n",
    "$M = [m_0, m_1, m_2, m_3]$ and $X = [1,   x_1, x_2, x_3]$ "
   ]
  },
  {
   "cell_type": "code",
   "execution_count": null,
   "metadata": {
    "collapsed": true
   },
   "outputs": [],
   "source": []
  },
  {
   "cell_type": "markdown",
   "metadata": {},
   "source": [
    "### Linear model\n",
    "$f(X) = M \\cdot X $"
   ]
  },
  {
   "cell_type": "markdown",
   "metadata": {},
   "source": [
    "### Question :: What is a linear model/function"
   ]
  },
  {
   "cell_type": "markdown",
   "metadata": {},
   "source": [
    "#### Which of the following functions are linear?\n",
    "* $f(x_1, x_2, x_3) = m_0 + m_1x_1 + m_2x_2 + m_3x_3$"
   ]
  },
  {
   "cell_type": "markdown",
   "metadata": {},
   "source": [
    "* $f(x_1, x_2, x_3) = m_0 + m_1x_1 + m_2x_2 + m_3x_3 + m_4x_1^2 + m_5x_3^4$"
   ]
  },
  {
   "cell_type": "markdown",
   "metadata": {},
   "source": [
    "* $f(x_1, x_2, x_3) = m_0 + m_1x_1 + m_2x_2 + m_3x_3 + m_4^3x_1 + m_5^2x_3$\n",
    "\n",
    "\n",
    "\n",
    " This model/hypothesis is the basis of `Linear Regression`"
   ]
  },
  {
   "cell_type": "raw",
   "metadata": {},
   "source": []
  },
  {
   "cell_type": "markdown",
   "metadata": {},
   "source": [
    "### Logistic Regression"
   ]
  },
  {
   "cell_type": "markdown",
   "metadata": {},
   "source": [
    "\\begin{equation}\n",
    "f(X) = \\frac{1}{1+e^{-M \\cdot X}}\n",
    "\\end{equation}"
   ]
  },
  {
   "cell_type": "markdown",
   "metadata": {},
   "source": [
    "### Differences and similarities between Logistic Regresison and Linear Regression\n",
    "\n",
    "Regression vs classification\n",
    "* Differences : continuous output vs discrete output\n",
    "* Similarities : Same hypothesis!!\n",
    "* Why logistic function?"
   ]
  },
  {
   "cell_type": "code",
   "execution_count": null,
   "metadata": {
    "collapsed": true
   },
   "outputs": [],
   "source": []
  },
  {
   "cell_type": "markdown",
   "metadata": {},
   "source": [
    "### Manual work here"
   ]
  },
  {
   "cell_type": "markdown",
   "metadata": {},
   "source": [
    "Assume, $P(y=1|X,M) = f(X)$\n",
    "and $P(y=0|X, M) = 1-f(X)$"
   ]
  },
  {
   "cell_type": "markdown",
   "metadata": {},
   "source": [
    "$ P(y|X,M) = (f(X))^y * (1-f(X))^{1-y}$"
   ]
  },
  {
   "cell_type": "markdown",
   "metadata": {},
   "source": [
    "This is for 1 training example. For n training samples, the the same can be written as \n",
    "\n",
    "$L = \\prod_{i=1}^{n} P_i(y_i|X_i, M) = \\prod_{i=1}^{n} f(X_i)^{y_i}*(1-f(X_i))^{1-y_i}$\n",
    "\n",
    "$log(L) = \\sum y_i*f(X_i) + (1-y_i)*(1-f(X_i))$\n",
    "\n",
    "Reference : http://cs229.stanford.edu/notes/cs229-notes1.pdf"
   ]
  },
  {
   "cell_type": "code",
   "execution_count": 33,
   "metadata": {
    "collapsed": true
   },
   "outputs": [],
   "source": [
    "from IPython.display import Image"
   ]
  },
  {
   "cell_type": "code",
   "execution_count": 36,
   "metadata": {
    "collapsed": false
   },
   "outputs": [
    {
     "data": {
      "image/png": "[encoded data removed]",
      "text/plain": [
       "<IPython.core.display.Image object>"
      ]
     },
     "execution_count": 36,
     "metadata": {},
     "output_type": "execute_result"
    }
   ],
   "source": [
    "# from IPython.core.display import HTML \n",
    "Image(\"/home/nilesh/Pictures/Screenshot from 2019-04-24 08-32-32.png\")"
   ]
  },
  {
   "cell_type": "markdown",
   "metadata": {},
   "source": [
    "### Update rule"
   ]
  },
  {
   "cell_type": "code",
   "execution_count": 37,
   "metadata": {
    "collapsed": false
   },
   "outputs": [
    {
     "data": {
      "image/png": "[encoded data removed]",
      "text/plain": [
       "<IPython.core.display.Image object>"
      ]
     },
     "execution_count": 37,
     "metadata": {},
     "output_type": "execute_result"
    }
   ],
   "source": [
    "Image(\"/home/nilesh/Pictures/Screenshot from 2019-04-24 08-38-10.png\")"
   ]
  },
  {
   "cell_type": "markdown",
   "metadata": {},
   "source": [
    "Which gives us the actual update rule as follows, remember we want to *maximize* the likelihood here"
   ]
  },
  {
   "cell_type": "code",
   "execution_count": 38,
   "metadata": {
    "collapsed": false
   },
   "outputs": [
    {
     "data": {
      "image/png": "[encoded data removed]",
      "text/plain": [
       "<IPython.core.display.Image object>"
      ]
     },
     "execution_count": 38,
     "metadata": {},
     "output_type": "execute_result"
    }
   ],
   "source": [
    "Image(\"/home/nilesh/Pictures/Screenshot from 2019-04-24 08-39-13.png\")"
   ]
  },
  {
   "cell_type": "code",
   "execution_count": null,
   "metadata": {
    "collapsed": true
   },
   "outputs": [],
   "source": []
  },
  {
   "cell_type": "markdown",
   "metadata": {},
   "source": [
    "### Make sure that the audience understands gradient descent, take an exmaple of y = x^2 and run GD on it for illustration."
   ]
  },
  {
   "cell_type": "markdown",
   "metadata": {},
   "source": [
    "### Review the maths of LR once again."
   ]
  },
  {
   "cell_type": "code",
   "execution_count": null,
   "metadata": {
    "collapsed": true
   },
   "outputs": [],
   "source": []
  },
  {
   "cell_type": "code",
   "execution_count": null,
   "metadata": {
    "collapsed": true
   },
   "outputs": [],
   "source": []
  },
  {
   "cell_type": "markdown",
   "metadata": {},
   "source": [
    "### Implementation of LogisticRegression"
   ]
  },
  {
   "cell_type": "code",
   "execution_count": 40,
   "metadata": {
    "collapsed": true
   },
   "outputs": [],
   "source": [
    "import numpy as np\n",
    "import pandas as pd\n",
    "import sklearn\n",
    "from sklearn.preprocessing import MinMaxScaler\n",
    "from sklearn.linear_model import LogisticRegression\n",
    "import matplotlib.pyplot as plt\n",
    "%matplotlib inline"
   ]
  },
  {
   "cell_type": "code",
   "execution_count": 41,
   "metadata": {
    "collapsed": true
   },
   "outputs": [],
   "source": [
    "plt.rcParams['figure.figsize'] = (12, 12)"
   ]
  },
  {
   "cell_type": "markdown",
   "metadata": {},
   "source": [
    "### Dataset properties"
   ]
  },
  {
   "cell_type": "code",
   "execution_count": 42,
   "metadata": {
    "collapsed": true
   },
   "outputs": [],
   "source": [
    "n_features, n_samples = 100, 10000\n",
    "class_separation_threshold = 7\n",
    "scale_features = False"
   ]
  },
  {
   "cell_type": "code",
   "execution_count": 43,
   "metadata": {
    "collapsed": true
   },
   "outputs": [],
   "source": [
    "# generate a fake dataset which is linearly separable using following properties \n",
    "def load_features(n_samples, \n",
    "                  n_features, \n",
    "                  class_separation_threshold, \n",
    "                  scale_features, \n",
    "                  sampling_probabilities):\n",
    "    #generate random data of give shape\n",
    "    raw_data = np.random.normal(size=(n_samples, n_features))\n",
    "    #generate random labels for those data points\n",
    "    flags = np.random.choice([True, False], size=n_samples, p=sampling_probabilities)\n",
    "    #based on label value, shift each value from those datapoints\n",
    "    raw_data[flags]-=class_separation_threshold\n",
    "    if scale_features:\n",
    "        min_max_scaler = MinMaxScaler(feature_range=(-1, 1))\n",
    "        raw_data = min_max_scaler.fit_transform(raw_data)\n",
    "    data = raw_data\n",
    "    return data, flags"
   ]
  },
  {
   "cell_type": "code",
   "execution_count": 44,
   "metadata": {
    "collapsed": true
   },
   "outputs": [],
   "source": [
    "X, y = load_features(n_samples, \n",
    "                     n_features, \n",
    "                     class_separation_threshold, \n",
    "                     scale_features, \n",
    "                     sampling_probabilities=[0.5, 0.5])"
   ]
  },
  {
   "cell_type": "code",
   "execution_count": 45,
   "metadata": {
    "collapsed": false
   },
   "outputs": [
    {
     "data": {
      "text/plain": [
       "((10000, 100), (10000,))"
      ]
     },
     "execution_count": 45,
     "metadata": {},
     "output_type": "execute_result"
    }
   ],
   "source": [
    "X.shape, y.shape"
   ]
  },
  {
   "cell_type": "code",
   "execution_count": 47,
   "metadata": {
    "collapsed": false
   },
   "outputs": [
    {
     "data": {
      "text/plain": [
       "<matplotlib.axes._subplots.AxesSubplot at 0x7febca5ff438>"
      ]
     },
     "execution_count": 47,
     "metadata": {},
     "output_type": "execute_result"
    },
    {
     "data": {
      "image/png": "[encoded data removed]",
      "text/plain": [
       "<matplotlib.figure.Figure at 0x7febcade57b8>"
      ]
     },
     "metadata": {},
     "output_type": "display_data"
    }
   ],
   "source": [
    "#visualize the data\n",
    "pd.Series(X[~y].flatten().round(2)).hist(bins=100)\n",
    "pd.Series(X[y].flatten().round(2)).hist(bins=100)"
   ]
  },
  {
   "cell_type": "code",
   "execution_count": null,
   "metadata": {
    "collapsed": true
   },
   "outputs": [],
   "source": []
  },
  {
   "cell_type": "markdown",
   "metadata": {},
   "source": [
    "### All above math jazz is as simple as running some lines of code!\n",
    "Sklearn does everything under the hood!"
   ]
  },
  {
   "cell_type": "code",
   "execution_count": 49,
   "metadata": {
    "collapsed": true
   },
   "outputs": [],
   "source": [
    "train_test_ratio = 0.8\n",
    "train_test_split = int(train_test_ratio*len(X))"
   ]
  },
  {
   "cell_type": "code",
   "execution_count": 51,
   "metadata": {
    "collapsed": true
   },
   "outputs": [],
   "source": [
    "lr = LogisticRegression()"
   ]
  },
  {
   "cell_type": "code",
   "execution_count": 52,
   "metadata": {
    "collapsed": false
   },
   "outputs": [
    {
     "name": "stderr",
     "output_type": "stream",
     "text": [
      "/home/nilesh/anaconda3/lib/python3.6/site-packages/sklearn/linear_model/logistic.py:433: FutureWarning: Default solver will be changed to 'lbfgs' in 0.22. Specify a solver to silence this warning.\n",
      "  FutureWarning)\n"
     ]
    },
    {
     "data": {
      "text/plain": [
       "LogisticRegression(C=1.0, class_weight=None, dual=False, fit_intercept=True,\n",
       "          intercept_scaling=1, max_iter=100, multi_class='warn',\n",
       "          n_jobs=None, penalty='l2', random_state=None, solver='warn',\n",
       "          tol=0.0001, verbose=0, warm_start=False)"
      ]
     },
     "execution_count": 52,
     "metadata": {},
     "output_type": "execute_result"
    }
   ],
   "source": [
    "lr.fit(X[:train_test_split], y[:train_test_split])"
   ]
  },
  {
   "cell_type": "markdown",
   "metadata": {},
   "source": [
    "### Simple accuracy"
   ]
  },
  {
   "cell_type": "code",
   "execution_count": 53,
   "metadata": {
    "collapsed": false
   },
   "outputs": [
    {
     "data": {
      "text/plain": [
       "1.0"
      ]
     },
     "execution_count": 53,
     "metadata": {},
     "output_type": "execute_result"
    }
   ],
   "source": [
    "lr.score(X[:train_test_split], y[:train_test_split])"
   ]
  },
  {
   "cell_type": "code",
   "execution_count": 54,
   "metadata": {
    "collapsed": false
   },
   "outputs": [
    {
     "data": {
      "text/plain": [
       "1.0"
      ]
     },
     "execution_count": 54,
     "metadata": {},
     "output_type": "execute_result"
    }
   ],
   "source": [
    "lr.score(X[train_test_split:], y[train_test_split:])"
   ]
  },
  {
   "cell_type": "markdown",
   "metadata": {},
   "source": [
    "### Use different `class_separation_threshold` and explain `f1_score`"
   ]
  },
  {
   "cell_type": "code",
   "execution_count": null,
   "metadata": {
    "collapsed": true
   },
   "outputs": [],
   "source": []
  }
 ],
 "metadata": {
  "kernelspec": {
   "display_name": "Python 3",
   "language": "python",
   "name": "python3"
  },
  "language_info": {
   "codemirror_mode": {
    "name": "ipython",
    "version": 3
   },
   "file_extension": ".py",
   "mimetype": "text/x-python",
   "name": "python",
   "nbconvert_exporter": "python",
   "pygments_lexer": "ipython3",
   "version": "3.6.0"
  }
 },
 "nbformat": 4,
 "nbformat_minor": 2
}
